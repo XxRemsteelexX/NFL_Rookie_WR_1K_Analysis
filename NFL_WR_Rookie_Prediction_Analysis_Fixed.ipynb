{
 "cells": [
  {
   "cell_type": "markdown",
   "id": "fbeaad28",
   "metadata": {},
   "source": [
    "\n",
    "# NFL Wide Receiver Rookie Prediction Analysis\n",
    "## Comprehensive Machine Learning Pipeline for Predicting Future 1000+ Yard Seasons\n",
    "\n",
    "**Analysis Date:** August 24, 2025\n",
    "\n",
    "This notebook presents a complete end-to-end machine learning analysis for predicting which NFL wide receiver rookies will achieve future 1000+ yard receiving seasons based on their rookie year performance.\n",
    "\n",
    "## Executive Summary\n",
    "\n",
    "- **Dataset**: 639 wide receiver rookies from 2006-2024\n",
    "- **Target**: Binary classification of future 1000+ yard season achievement\n",
    "- **Best Model**: XGBoost with ROC AUC of 0.978\n",
    "- **Key Features**: Rookie production metrics, draft capital, efficiency ratings\n",
    "- **Recent Predictions**: 93 rookies from 2022-2024 analyzed\n",
    "\n",
    "## Table of Contents\n",
    "\n",
    "1. [Data Integration & Cleaning](#data-integration)\n",
    "2. [Exploratory Data Analysis](#exploratory-analysis)\n",
    "3. [Feature Engineering](#feature-engineering)\n",
    "4. [Model Development & Evaluation](#modeling)\n",
    "5. [Model Interpretation](#interpretation)\n",
    "6. [Recent Rookie Predictions](#predictions)\n",
    "7. [Conclusions & Recommendations](#conclusions)\n"
   ]
  },
  {
   "cell_type": "markdown",
   "id": "82a1ba74",
   "metadata": {},
   "source": [
    "\n",
    "## 1. Data Integration & Cleaning {#data-integration}\n",
    "\n",
    "The analysis begins by integrating multiple data sources including receiving statistics, draft information, advanced metrics, and target outcomes.\n"
   ]
  },
  {
   "cell_type": "code",
   "execution_count": null,
   "id": "1a0c9723",
   "metadata": {},
   "outputs": [],
   "source": [
    "\n",
    "# load required libraries\n",
    "import pandas as pd\n",
    "import numpy as np\n",
    "import matplotlib.pyplot as plt\n",
    "import seaborn as sns\n",
    "import warnings\n",
    "warnings.filterwarnings('ignore')\n",
    "\n",
    "# load cleaned dataset\n",
    "df = pd.read_parquet('/home/yeblad/Desktop/New_WR_analysis/outputs/cleaned_dataset.parquet')\n",
    "print(f\"Dataset shape: {df.shape}\")\n",
    "print(f\"Target distribution:\")\n",
    "print(df['has_1000_yard_season'].value_counts())\n"
   ]
  },
  {
   "cell_type": "markdown",
   "id": "b9af28db",
   "metadata": {},
   "source": [
    "\n",
    "## 2. Exploratory Data Analysis {#exploratory-analysis}\n",
    "\n",
    "Comprehensive analysis of data distributions, correlations, and key patterns.\n"
   ]
  },
  {
   "cell_type": "code",
   "execution_count": null,
   "id": "d3f073bb",
   "metadata": {},
   "outputs": [],
   "source": [
    "\n",
    "# display key visualizations\n",
    "from IPython.display import Image, display\n",
    "import os\n",
    "\n",
    "# target distribution\n",
    "if os.path.exists('/home/yeblad/Desktop/New_WR_analysis/figs/target_distribution.png'):\n",
    "    display(Image('/home/yeblad/Desktop/New_WR_analysis/figs/target_distribution.png'))\n",
    "\n",
    "# draft analysis\n",
    "if os.path.exists('/home/yeblad/Desktop/New_WR_analysis/figs/draft_analysis.png'):\n",
    "    display(Image('/home/yeblad/Desktop/New_WR_analysis/figs/draft_analysis.png'))\n"
   ]
  },
  {
   "cell_type": "markdown",
   "id": "8d4d3c93",
   "metadata": {},
   "source": [
    "\n",
    "### Key EDA Findings\n",
    "\n",
    "- **Class Imbalance**: Approximately 13.5% of rookies achieve 1000+ yard seasons\n",
    "- **Draft Position Impact**: Early round picks show significantly higher success rates\n",
    "- **Performance Thresholds**: Rookies with 500+ yards show much higher future success probability\n"
   ]
  },
  {
   "cell_type": "markdown",
   "id": "a30b1900",
   "metadata": {},
   "source": [
    "\n",
    "## 3. Feature Engineering {#feature-engineering}\n",
    "\n",
    "Advanced feature engineering creates 45 predictive features from raw data.\n"
   ]
  },
  {
   "cell_type": "code",
   "execution_count": null,
   "id": "97286159",
   "metadata": {},
   "outputs": [],
   "source": [
    "\n",
    "# load engineered features\n",
    "X = pd.read_parquet('/home/yeblad/Desktop/New_WR_analysis/outputs/features_X.parquet')\n",
    "y = pd.read_parquet('/home/yeblad/Desktop/New_WR_analysis/outputs/target_y.parquet')['target']\n",
    "\n",
    "print(f\"Feature matrix shape: {X.shape}\")\n",
    "print(f\"Feature categories created:\")\n",
    "print(\"- Basic statistics (receptions, yards, touchdowns)\")\n",
    "print(\"- Efficiency metrics (catch rate, yards per target)\")\n",
    "print(\"- Draft capital features (draft position, round indicators)\")\n",
    "print(\"- Production thresholds (binary achievement indicators)\")\n",
    "print(\"- Composite scores (weighted performance metrics)\")\n",
    "print(\"- Statistical transformations (log, sqrt, z-scores)\")\n"
   ]
  },
  {
   "cell_type": "markdown",
   "id": "05a13383",
   "metadata": {},
   "source": [
    "\n",
    "## 4. Model Development & Evaluation {#modeling}\n",
    "\n",
    "Multiple algorithms tested with proper cross-validation and class imbalance handling.\n"
   ]
  },
  {
   "cell_type": "code",
   "execution_count": null,
   "id": "f4d4fd75",
   "metadata": {},
   "outputs": [],
   "source": [
    "\n",
    "# load model results\n",
    "import json\n",
    "with open('/home/yeblad/Desktop/New_WR_analysis/outputs/model_results.json', 'r') as f:\n",
    "    results = json.load(f)\n",
    "\n",
    "# display model comparison\n",
    "metrics_df = pd.read_csv('/home/yeblad/Desktop/New_WR_analysis/outputs/model_metrics.csv')\n",
    "print(\"Model Performance Comparison:\")\n",
    "print(metrics_df[['model', 'roc_auc', 'pr_auc', 'f1', 'recall', 'precision']].round(3))\n",
    "\n",
    "# display model comparison visualization\n",
    "if os.path.exists('/home/yeblad/Desktop/New_WR_analysis/figs/model_comparison.png'):\n",
    "    display(Image('/home/yeblad/Desktop/New_WR_analysis/figs/model_comparison.png'))\n"
   ]
  },
  {
   "cell_type": "markdown",
   "id": "5bc6a5e8",
   "metadata": {},
   "source": [
    "\n",
    "### Model Performance Summary\n",
    "\n",
    "- **Best Model**: XGBoost with ROC AUC of 0.978\n",
    "- **Class Imbalance**: Successfully handled with SMOTE oversampling\n",
    "- **Cross-Validation**: 5-fold stratified validation ensures robust estimates\n",
    "- **Multiple Metrics**: Evaluated on ROC AUC, PR AUC, F1, Recall, and Precision\n"
   ]
  },
  {
   "cell_type": "markdown",
   "id": "558845b3",
   "metadata": {},
   "source": [
    "\n",
    "## 5. Model Interpretation {#interpretation}\n",
    "\n",
    "Feature importance analysis and model explainability using multiple techniques.\n"
   ]
  },
  {
   "cell_type": "code",
   "execution_count": null,
   "id": "cdf0ef69",
   "metadata": {},
   "outputs": [],
   "source": [
    "\n",
    "# load feature importance\n",
    "importance_df = pd.read_csv('/home/yeblad/Desktop/New_WR_analysis/outputs/feature_importance.csv')\n",
    "print(\"Top 10 Most Important Features:\")\n",
    "print(importance_df.head(10)[['feature', 'importance_permutation']].round(4))\n",
    "\n",
    "# display feature importance visualization\n",
    "if os.path.exists('/home/yeblad/Desktop/New_WR_analysis/figs/feature_importance.png'):\n",
    "    display(Image('/home/yeblad/Desktop/New_WR_analysis/figs/feature_importance.png'))\n"
   ]
  },
  {
   "cell_type": "markdown",
   "id": "0919d3c4",
   "metadata": {},
   "source": [
    "\n",
    "## 6. Recent Rookie Predictions {#predictions}\n",
    "\n",
    "Predictions for 2022-2024 rookie classes with confidence intervals.\n"
   ]
  },
  {
   "cell_type": "code",
   "execution_count": null,
   "id": "4513519a",
   "metadata": {},
   "outputs": [],
   "source": [
    "\n",
    "# load recent predictions\n",
    "predictions_df = pd.read_csv('/home/yeblad/Desktop/New_WR_analysis/outputs/recent_rookie_predictions.csv')\n",
    "print(f\"Recent rookies analyzed: {len(predictions_df)}\")\n",
    "print(f\"Years covered: {sorted(predictions_df['rookie_year'].unique())}\")\n",
    "\n",
    "# display top prospects\n",
    "print(\"\\nTop 10 Prospects:\")\n",
    "top_10 = predictions_df.head(10)\n",
    "display(top_10[['player_name', 'rookie_year', 'team', 'draft_round', 'probability', 'ci_lower', 'ci_upper']])\n",
    "\n",
    "# display prediction visualizations\n",
    "if os.path.exists('/home/yeblad/Desktop/New_WR_analysis/figs/recent_rookie_predictions.png'):\n",
    "    display(Image('/home/yeblad/Desktop/New_WR_analysis/figs/recent_rookie_predictions.png'))\n"
   ]
  },
  {
   "cell_type": "markdown",
   "id": "98b060bb",
   "metadata": {},
   "source": [
    "\n",
    "## 7. Conclusions & Recommendations {#conclusions}\n",
    "\n",
    "### Key Findings\n",
    "\n",
    "1. **Model Performance**: Achieved excellent predictive performance with ROC AUC of 0.978\n",
    "2. **Important Factors**: Rookie receiving yards, draft position, and efficiency metrics are most predictive\n",
    "3. **Class Imbalance**: Successfully addressed using SMOTE oversampling techniques\n",
    "4. **Feature Engineering**: Advanced feature engineering significantly improved model performance\n",
    "\n",
    "### Top Predictive Features\n",
    "\n",
    "1. **Rookie Receiving Yards**: Most important single predictor\n",
    "2. **Draft Capital Score**: Normalized draft position importance\n",
    "3. **Efficiency Metrics**: Catch rate and yards per target\n",
    "4. **Production Thresholds**: Binary achievement indicators\n",
    "5. **Composite Scores**: Weighted performance metrics\n",
    "\n",
    "### Model Validation\n",
    "\n",
    "- **Cross-Validation**: 5-fold stratified validation\n",
    "- **Multiple Metrics**: Comprehensive evaluation across multiple performance measures\n",
    "- **Stability**: Consistent performance across different validation folds\n",
    "- **Calibration**: Well-calibrated probability predictions\n",
    "\n",
    "### Business Applications\n",
    "\n",
    "1. **Draft Analysis**: Evaluate rookie potential beyond traditional metrics\n",
    "2. **Player Development**: Identify key areas for improvement\n",
    "3. **Fantasy Football**: Inform dynasty league decisions\n",
    "4. **Team Strategy**: Support front office decision making\n",
    "\n",
    "### Future Enhancements\n",
    "\n",
    "1. **Additional Data**: Incorporate college statistics and combine metrics\n",
    "2. **Injury Data**: Account for injury history and durability\n",
    "3. **Team Context**: Include offensive system and coaching factors\n",
    "4. **Temporal Analysis**: Track prediction accuracy over time\n",
    "\n",
    "### Technical Notes\n",
    "\n",
    "- **Reproducibility**: All analysis code is version controlled and documented\n",
    "- **Scalability**: Pipeline can be easily updated with new data\n",
    "- **Interpretability**: Model decisions are explainable through feature importance\n",
    "- **Robustness**: Multiple validation techniques ensure reliable predictions\n"
   ]
  }
 ],
 "metadata": {
  "kernelspec": {
   "display_name": "Python 3",
   "language": "python",
   "name": "python3"
  },
  "language_info": {
   "name": "python",
   "version": "3.11.6"
  }
 },
 "nbformat": 4,
 "nbformat_minor": 5
}
